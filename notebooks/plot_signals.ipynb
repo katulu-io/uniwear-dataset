{
 "cells": [
  {
   "cell_type": "markdown",
   "id": "d15b1edb-84f8-4b58-9ebc-c5ec77e28b2d",
   "metadata": {},
   "source": [
    "# katuluUniwear dataset plots"
   ]
  },
  {
   "cell_type": "code",
   "execution_count": null,
   "id": "bf7e1df7-6896-4134-a98e-a11e26a65aef",
   "metadata": {},
   "outputs": [],
   "source": [
    "import matplotlib.pyplot as plt\n",
    "import pandas as pd\n",
    "import numpy as np"
   ]
  },
  {
   "cell_type": "code",
   "execution_count": null,
   "id": "39dae5ab-d106-460e-ad78-092e9821dc1c",
   "metadata": {},
   "outputs": [],
   "source": [
    "import matplotlib"
   ]
  },
  {
   "cell_type": "code",
   "execution_count": null,
   "id": "f979e030-e8a6-4143-9646-48cf5d896a46",
   "metadata": {},
   "outputs": [],
   "source": [
    "matplotlib.__version__"
   ]
  },
  {
   "cell_type": "code",
   "execution_count": null,
   "id": "4bd66b83-3f11-4c09-93de-1264dd90ed5b",
   "metadata": {},
   "outputs": [],
   "source": [
    "uniwear = pd.read_csv('../data/uniwear.csv')  # ~2 Hz (PHM2010 & NUAA)\n",
    "nuaa_res = pd.read_csv('../data/nuaa_orthogonal_bundle_high_resolution.csv') # ~15 Hz\n",
    "phm = pd.read_csv('../data/phm2010_bundle_high_resolution.csv') # ~25 Hz"
   ]
  },
  {
   "cell_type": "code",
   "execution_count": null,
   "id": "ef158a10-9a27-447e-939c-b21e8145bf7c",
   "metadata": {},
   "outputs": [],
   "source": [
    "phm.columns"
   ]
  },
  {
   "cell_type": "markdown",
   "id": "dd42c5d4-7ec3-491b-bd59-7fc9a78f568b",
   "metadata": {},
   "source": [
    "# High-res NUAA"
   ]
  },
  {
   "cell_type": "code",
   "execution_count": null,
   "id": "0cb8c8c8-ddf3-4433-871b-2c1441a871c9",
   "metadata": {},
   "outputs": [],
   "source": [
    "_exp_tags = ['W1', 'W2', 'W3', 'W4', 'W5', 'W6', 'W7', 'W8', 'W9']"
   ]
  },
  {
   "cell_type": "code",
   "execution_count": null,
   "id": "4cfd62e7-b107-40d0-a9b2-7cba97d01f55",
   "metadata": {},
   "outputs": [],
   "source": [
    "for tt in _exp_tags:\n",
    "    df = nuaa_res[nuaa_res['experiment_tag'] == tt].copy()\n",
    "    plt.plot(df['timestamp']/60.0, df['tool_wear'], label=tt)\n",
    "    plt.xlabel('Cutting Time (minutes)')\n",
    "    plt.ylabel('Tool Wear (mm)')\n",
    "    plt.title(\"NUAA W1-W9 : High-res 15 Hz\")\n",
    "\n",
    "plt.legend() # 15 Hz"
   ]
  },
  {
   "cell_type": "markdown",
   "id": "c09c608f-65a3-43e3-9cb7-c77305d8412c",
   "metadata": {},
   "source": [
    "# NUAA in uniwear"
   ]
  },
  {
   "cell_type": "code",
   "execution_count": null,
   "id": "75fe42bf-c8c3-4a50-b23c-837614453c01",
   "metadata": {},
   "outputs": [],
   "source": [
    "for tt in _exp_tags:\n",
    "    df = uniwear[uniwear['experiment_tag'] == tt].copy()\n",
    "    plt.plot(df['timestamp']/60.0, df['tool_wear'], label=tt)\n",
    "    plt.xlabel('Cutting Time (minutes)')\n",
    "    plt.ylabel('Tool Wear (mm)')\n",
    "    plt.title(\"NUAA Uniwear : Align ~2 Hz\")\n",
    "\n",
    "plt.legend()"
   ]
  },
  {
   "cell_type": "markdown",
   "id": "5398e9f0-d622-4107-98cf-d8b3a6c33e72",
   "metadata": {},
   "source": [
    "# PHM2010 high res"
   ]
  },
  {
   "cell_type": "code",
   "execution_count": null,
   "id": "00b8d808-ec9f-4e8a-8521-e72da75599ac",
   "metadata": {},
   "outputs": [],
   "source": [
    "_exp_tags = ['c1','c6', 'c4']"
   ]
  },
  {
   "cell_type": "code",
   "execution_count": null,
   "id": "bbdaa224-ad34-4a19-a5d9-03eacf8b4697",
   "metadata": {},
   "outputs": [],
   "source": [
    "for tt in _exp_tags:\n",
    "    df = phm[phm['experiment_tag'] == tt].copy()\n",
    "    plt.plot(df['timestamp']/60.0, df['tool_wear'], label=tt)\n",
    "    plt.xlabel('Cutting Time (minutes)')\n",
    "    plt.ylabel('Tool Wear (mm)')\n",
    "    plt.title(\"PHM2010 c1, c6, c4 : High-res ~25 Hz\")\n",
    "\n",
    "plt.legend()"
   ]
  },
  {
   "cell_type": "markdown",
   "id": "fa65f4e9-40d6-49ab-a6fc-529e419b15a0",
   "metadata": {},
   "source": [
    "# PHM 2010 in uniwear"
   ]
  },
  {
   "cell_type": "code",
   "execution_count": null,
   "id": "555dca86-9ddc-4626-ae16-962892b51c06",
   "metadata": {},
   "outputs": [],
   "source": [
    "for tt in _exp_tags:\n",
    "    df = uniwear[uniwear['experiment_tag'] == tt].copy()\n",
    "    plt.plot(df['timestamp']/60.0, df['tool_wear'], label=tt)\n",
    "    plt.xlabel('Cutting Time (minutes)')\n",
    "    plt.ylabel('Tool Wear (mm)')\n",
    "    plt.title(\"PHM2010 c1, c6, c4 :  Uniwear ~2 Hz\")\n",
    "\n",
    "plt.legend()"
   ]
  },
  {
   "cell_type": "code",
   "execution_count": null,
   "id": "6faf88e9-66a2-49ad-a120-29032fed73ee",
   "metadata": {},
   "outputs": [],
   "source": [
    "# Uniwear all\n",
    "\n",
    "_exp_tags = ['c1','c6', 'c4', 'W1', \n",
    "             'W2', 'W3', 'W4', 'W5', 'W6', \n",
    "             'W7', 'W8', 'W9']\n",
    "\n",
    "_exp_label = ['PHM2010 c1','PHM2010 c6', 'PHM2010 c4', 'NUAA W1', \n",
    "             'NUAA W2', 'NUAA W3', 'NUAA W4', 'NUAA W5', 'NUAA W6', \n",
    "             'NUAA W7', 'NUAA W8', 'NUAA W9']\n",
    "\n",
    "for tt, _label in zip(_exp_tags, _exp_label):\n",
    "    df = uniwear[uniwear['experiment_tag'] == tt].copy()\n",
    "    plt.plot(df['timestamp']/60.0, df['tool_wear'], label=_label)\n",
    "    plt.xlabel('Cutting Time (minutes)')\n",
    "    plt.ylabel('Tool Wear (mm)')\n",
    "    plt.title(\" Uniwear \\n \\\n",
    "                All cutting experiments\")\n",
    "\n",
    "plt.legend()\n",
    "plt.ylim([0, 0.40])\n",
    "plt.xlim([-2, 90.0])\n",
    "# once\n",
    "#plt.savefig('uniwear_all_experiments.png', format='png')\n",
    "#plt.show()"
   ]
  }
 ],
 "metadata": {
  "kernelspec": {
   "display_name": "Python 3 (ipykernel)",
   "language": "python",
   "name": "python3"
  },
  "language_info": {
   "codemirror_mode": {
    "name": "ipython",
    "version": 3
   },
   "file_extension": ".py",
   "mimetype": "text/x-python",
   "name": "python",
   "nbconvert_exporter": "python",
   "pygments_lexer": "ipython3",
   "version": "3.7.12"
  }
 },
 "nbformat": 4,
 "nbformat_minor": 5
}
